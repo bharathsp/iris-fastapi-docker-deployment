{
 "cells": [
  {
   "cell_type": "code",
   "execution_count": null,
   "id": "edaee558",
   "metadata": {},
   "outputs": [],
   "source": [
    "import joblib\n",
    "from sklearn.datasets import load_iris\n",
    "from sklearn.ensemble import RandomForestClassifier\n",
    "\n",
    "#Load the iris dataset\n",
    "iris = load_iris() \n",
    "X, y = iris.data, iris.target\n",
    "\n",
    "#Train a random forest classifier\n",
    "model = RandomForestClassifier()\n",
    "model.fit(X, y)\n",
    "\n",
    "#Save the trained model\n",
    "joblib.dump(model, 'model.joblib')"
   ]
  }
 ],
 "metadata": {
  "language_info": {
   "name": "python"
  }
 },
 "nbformat": 4,
 "nbformat_minor": 5
}
